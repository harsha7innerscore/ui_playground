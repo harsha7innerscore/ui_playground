{
 "cells": [
  {
   "cell_type": "code",
   "execution_count": 1,
   "id": "c6334087",
   "metadata": {},
   "outputs": [
    {
     "name": "stdout",
     "output_type": "stream",
     "text": [
      "Heeloo\n"
     ]
    }
   ],
   "source": [
    "print(\"Heeloo\")"
   ]
  },
  {
   "cell_type": "code",
   "execution_count": null,
   "id": "2850584c",
   "metadata": {},
   "outputs": [],
   "source": [
    "import os\n",
    "from PIL import Image\n",
    "import matplotlib.pyplot as plt\n",
    "original_dir = \"/Users/coschool/Downloads/postcard\"\n",
    "ai_dir = \"/Users/coschool/Downloads/postcard_ai\"\n",
    "def review_only(pending_files=None):\n",
    "    \"\"\"\n",
    "    Shows original and AI-generated images side by side.\n",
    "    No deletion is performed — this is purely for review.\n",
    "    \"\"\"\n",
    "    original_files = [f for f in os.listdir(original_dir) if os.path.isfile(os.path.join(original_dir, f))]\n",
    "    ai_files = [f for f in os.listdir(ai_dir) if os.path.isfile(os.path.join(ai_dir, f))]\n",
    "    if pending_files:\n",
    "        pending_file_names = {os.path.basename(f) for f in pending_files}\n",
    "        original_files = [f for f in original_files if f in pending_file_names]\n",
    "    for file in original_files:\n",
    "        original_path = os.path.join(original_dir, file)\n",
    "        ai_path = os.path.join(ai_dir, file)\n",
    "        if file not in ai_files:\n",
    "            print(f\"[SKIP] No AI image found for {file}\")\n",
    "            continue\n",
    "        try:\n",
    "            orig_img = Image.open(original_path)\n",
    "            ai_img = Image.open(ai_path)\n",
    "            fig, axes = plt.subplots(1, 2, figsize=(10, 5))\n",
    "            axes[0].imshow(orig_img)\n",
    "            axes[0].set_title(\"Original\")\n",
    "            axes[0].axis(\"off\")\n",
    "            axes[1].imshow(ai_img)\n",
    "            axes[1].set_title(\"AI Generated\")\n",
    "            axes[1].axis(\"off\")\n",
    "            plt.tight_layout()\n",
    "            plt.show(block=False)\n",
    "            input(f\"Press Enter to continue to next image ({file})...\")\n",
    "            plt.close(fig)\n",
    "        except Exception as e:\n",
    "            print(f\"[ERROR] Could not process {file}: {e}\")\n"
   ]
  }
 ],
 "metadata": {
  "kernelspec": {
   "display_name": "jupyter_env",
   "language": "python",
   "name": "python3"
  },
  "language_info": {
   "codemirror_mode": {
    "name": "ipython",
    "version": 3
   },
   "file_extension": ".py",
   "mimetype": "text/x-python",
   "name": "python",
   "nbconvert_exporter": "python",
   "pygments_lexer": "ipython3",
   "version": "3.13.3"
  }
 },
 "nbformat": 4,
 "nbformat_minor": 5
}
